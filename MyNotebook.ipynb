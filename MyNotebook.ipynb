{
  "nbformat": 4,
  "nbformat_minor": 0,
  "metadata": {
    "colab": {
      "name": "MyNotebook.ipynb",
      "provenance": [],
      "collapsed_sections": [],
      "authorship_tag": "ABX9TyMZfQ6toWwabZrZpdm/9Bpx",
      "include_colab_link": true
    },
    "kernelspec": {
      "name": "python3",
      "display_name": "Python 3"
    },
    "language_info": {
      "name": "python"
    }
  },
  "cells": [
    {
      "cell_type": "markdown",
      "metadata": {
        "id": "view-in-github",
        "colab_type": "text"
      },
      "source": [
        "<a href=\"https://colab.research.google.com/github/Vikranth-Inti/Apprenticeship-in-Python/blob/main/MyNotebook.ipynb\" target=\"_parent\"><img src=\"https://colab.research.google.com/assets/colab-badge.svg\" alt=\"Open In Colab\"/></a>"
      ]
    },
    {
      "cell_type": "code",
      "metadata": {
        "colab": {
          "base_uri": "https://localhost:8080/"
        },
        "id": "-Zdxd8cinT4a",
        "outputId": "fa82bdea-24ac-4f4a-987f-af19fb50621c"
      },
      "source": [
        "\"\"\"Author : Inti Vikranth\"\"\"\n",
        "#Installing Stanford Network Analysis Project (SNAP) with Pip on Colab\n",
        "!python3 -m pip install snap-stanford"
      ],
      "execution_count": 40,
      "outputs": [
        {
          "output_type": "stream",
          "text": [
            "Requirement already satisfied: snap-stanford in /usr/local/lib/python3.7/dist-packages (6.0.0)\n"
          ],
          "name": "stdout"
        }
      ]
    },
    {
      "cell_type": "code",
      "metadata": {
        "colab": {
          "base_uri": "https://localhost:8080/"
        },
        "id": "ptSuHSPYwSSH",
        "outputId": "2bf71c23-6919-4eb4-a3b8-d74d63f0ee75"
      },
      "source": [
        "#Import the snap module\n",
        "import snap\n",
        "\n",
        "#Create a vector of integers TIntV\n",
        "v = snap.TIntV()\n",
        "\n",
        "#Append some integers to the vector\n",
        "v.append(1)\n",
        "\n",
        "v.append(2)\n",
        "\n",
        "v.append(3)\n",
        "\n",
        "v.append(4)\n",
        "\n",
        "v.append(5)\n",
        "\n",
        "#Check the size of vector i.e number of integers in the vector\n",
        "print(len(v))"
      ],
      "execution_count": 39,
      "outputs": [
        {
          "output_type": "stream",
          "text": [
            "5\n"
          ],
          "name": "stdout"
        }
      ]
    },
    {
      "cell_type": "code",
      "metadata": {
        "id": "PYx8A6lD06Qu"
      },
      "source": [
        "#!swig --help"
      ],
      "execution_count": 79,
      "outputs": []
    }
  ]
}