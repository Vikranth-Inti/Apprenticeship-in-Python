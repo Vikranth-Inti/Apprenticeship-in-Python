{
  "nbformat": 4,
  "nbformat_minor": 0,
  "metadata": {
    "colab": {
      "name": "MyNotebook.ipynb",
      "provenance": [],
      "authorship_tag": "ABX9TyN8fxQQXut15IwswTPZzzcM",
      "include_colab_link": true
    },
    "kernelspec": {
      "name": "python3",
      "display_name": "Python 3"
    },
    "language_info": {
      "name": "python"
    }
  },
  "cells": [
    {
      "cell_type": "markdown",
      "metadata": {
        "id": "view-in-github",
        "colab_type": "text"
      },
      "source": [
        "<a href=\"https://colab.research.google.com/github/Vikranth-Inti/Apprenticeship-in-Python/blob/main/MyNotebook.ipynb\" target=\"_parent\"><img src=\"https://colab.research.google.com/assets/colab-badge.svg\" alt=\"Open In Colab\"/></a>"
      ]
    },
    {
      "cell_type": "code",
      "metadata": {
        "id": "Q5f-lJXRPmTb"
      },
      "source": [
        "import requests\n",
        "url = 'https://snap.stanford.edu/snap/download.html/Snap-6.0-Ubuntu18.04.tgz'\n",
        "r = requests.get(url, allow_redirects=True)\n",
        "\n",
        "\n",
        " "
      ],
      "execution_count": 7,
      "outputs": []
    },
    {
      "cell_type": "code",
      "metadata": {
        "colab": {
          "base_uri": "https://localhost:8080/"
        },
        "id": "uShuDYgrR2Zu",
        "outputId": "679ccda5-23a6-4283-8ff4-9d13e962f8ab"
      },
      "source": [
        "ls"
      ],
      "execution_count": 8,
      "outputs": [
        {
          "output_type": "stream",
          "text": [
            "\u001b[0m\u001b[01;34msample_data\u001b[0m/\n"
          ],
          "name": "stdout"
        }
      ]
    },
    {
      "cell_type": "code",
      "metadata": {
        "colab": {
          "base_uri": "https://localhost:8080/"
        },
        "id": "wPvc14X9R5V7",
        "outputId": "074eedbe-3a16-4b0b-e951-d24c4fda375a"
      },
      "source": [
        "cd sample_data"
      ],
      "execution_count": 9,
      "outputs": [
        {
          "output_type": "stream",
          "text": [
            "/content/sample_data\n"
          ],
          "name": "stdout"
        }
      ]
    },
    {
      "cell_type": "code",
      "metadata": {
        "colab": {
          "base_uri": "https://localhost:8080/"
        },
        "id": "E6qRQe23R9d0",
        "outputId": "3e083a60-b601-42f9-8b49-28dbd8b2ac6a"
      },
      "source": [
        "ls\n"
      ],
      "execution_count": 10,
      "outputs": [
        {
          "output_type": "stream",
          "text": [
            "\u001b[0m\u001b[01;32manscombe.json\u001b[0m*                mnist_test.csv\n",
            "california_housing_test.csv   mnist_train_small.csv\n",
            "california_housing_train.csv  \u001b[01;32mREADME.md\u001b[0m*\n"
          ],
          "name": "stdout"
        }
      ]
    },
    {
      "cell_type": "code",
      "metadata": {
        "colab": {
          "base_uri": "https://localhost:8080/"
        },
        "id": "9drDSrspSCKG",
        "outputId": "49c16cbe-c0ae-4261-cd94-d544d1308d6c"
      },
      "source": [
        "import requests\n",
        "url = 'https://snap.stanford.edu/releases/Snap-6.0-Ubuntu18.04.tgz'\n",
        "r = requests.get(url, allow_redirects=True)\n",
        "print(r)\n"
      ],
      "execution_count": 13,
      "outputs": [
        {
          "output_type": "stream",
          "text": [
            "<Response [200]>\n"
          ],
          "name": "stdout"
        }
      ]
    },
    {
      "cell_type": "code",
      "metadata": {
        "id": "7OBu4kvkXM6n"
      },
      "source": [
        "ls"
      ],
      "execution_count": 22,
      "outputs": []
    }
  ]
}