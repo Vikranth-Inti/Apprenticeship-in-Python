{
  "nbformat": 4,
  "nbformat_minor": 0,
  "metadata": {
    "colab": {
      "name": "MyNotebook.ipynb",
      "provenance": [],
      "authorship_tag": "ABX9TyMbg1+d0CRKj+m72HidgD5f",
      "include_colab_link": true
    },
    "kernelspec": {
      "name": "python3",
      "display_name": "Python 3"
    },
    "language_info": {
      "name": "python"
    }
  },
  "cells": [
    {
      "cell_type": "markdown",
      "metadata": {
        "id": "view-in-github",
        "colab_type": "text"
      },
      "source": [
        "<a href=\"https://colab.research.google.com/github/Vikranth-Inti/Apprenticeship-in-Python/blob/main/MyNotebook.ipynb\" target=\"_parent\"><img src=\"https://colab.research.google.com/assets/colab-badge.svg\" alt=\"Open In Colab\"/></a>"
      ]
    },
    {
      "cell_type": "code",
      "metadata": {
        "colab": {
          "base_uri": "https://localhost:8080/"
        },
        "id": "-Zdxd8cinT4a",
        "outputId": "89cdb570-e32f-474f-a1ab-ee5f08005ac3"
      },
      "source": [
        "#Installing Stanford Network Analysis Project (SNAP) with Pip on Colab\n",
        "!python3 -m pip install snap-stanford"
      ],
      "execution_count": 24,
      "outputs": [
        {
          "output_type": "stream",
          "text": [
            "Requirement already satisfied: snap-stanford in /usr/local/lib/python3.7/dist-packages (6.0.0)\n"
          ],
          "name": "stdout"
        }
      ]
    }
  ]
}